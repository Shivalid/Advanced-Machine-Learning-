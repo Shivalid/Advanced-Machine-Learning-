{
 "cells": [
  {
   "cell_type": "code",
   "execution_count": 10,
   "metadata": {},
   "outputs": [
    {
     "name": "stdout",
     "output_type": "stream",
     "text": [
      "Populating the interactive namespace from numpy and matplotlib\n",
      "The autoreload extension is already loaded. To reload it, use:\n",
      "  %reload_ext autoreload\n"
     ]
    }
   ],
   "source": [
    "import numpy as np\n",
    "import scipy\n",
    "%matplotlib notebook\n",
    "%pylab inline\n",
    "%load_ext autoreload\n",
    "%autoreload 2"
   ]
  },
  {
   "cell_type": "markdown",
   "metadata": {},
   "source": [
    "# 1.1 Tracking by assignment without particle merging or division"
   ]
  },
  {
   "cell_type": "markdown",
   "metadata": {},
   "source": [
    "### f) Linear program definition\n",
    "In order to write down the matrix of constraints, you may find convenient to finish implementing the following function:"
   ]
  },
  {
   "cell_type": "code",
   "execution_count": 2,
   "metadata": {},
   "outputs": [],
   "source": [
    "### Convert edge list to incidence matrix:\n",
    "def get_incidence_matrix(edge_list, nb_nodes=None):\n",
    "    \"\"\"\n",
    "    Utility function converting a list of uv-edges into an incidence matrix.\n",
    "    \n",
    "    edge_list should be a numpy array of shape (number_of_edges, 2) including the uv-pairs \n",
    "    for each edge in the graph\n",
    "    \"\"\"\n",
    "    nb_nodes = edge_list.max() + 1 if nb_nodes is None else nb_nodes\n",
    "    inc_matrix = np.zeros((nb_nodes, edge_list.shape[0]), dtype='int')\n",
    "    for i, edge in enumerate(edge_list):\n",
    "        u, v = edge\n",
    "        inc_matrix[u,i] = -1\n",
    "        inc_matrix[v,i] = 1\n",
    "        \n",
    "    return inc_matrix\n"
   ]
  },
  {
   "cell_type": "markdown",
   "metadata": {},
   "source": [
    "Find the constraint matrix `A_eq`:"
   ]
  },
  {
   "cell_type": "code",
   "execution_count": 3,
   "metadata": {},
   "outputs": [],
   "source": [
    "# First of all, we define the edge list (as uv pairs) of edges in the directed graph \n",
    "# of Fig. 2 in the solution sheet. In each row, the third element represents the edge cost:\n",
    "edge_list = np.array([\n",
    "    [0,1,-10],\n",
    "    [0,2,-20],\n",
    "    [0,3,-18],\n",
    "    [1,4,5],\n",
    "    [2,4,16],\n",
    "    [3,4,41],\n",
    "    [1,5,26],\n",
    "    [2,5,5],\n",
    "    [3,5,20],\n",
    "    [4,7,-13],\n",
    "    [5,8,-8],\n",
    "    [7,6,17],\n",
    "    [8,6,34],\n",
    "    [6,9,-9]\n",
    "]\n",
    ")\n"
   ]
  },
  {
   "cell_type": "code",
   "execution_count": 7,
   "metadata": {},
   "outputs": [
    {
     "name": "stdout",
     "output_type": "stream",
     "text": [
      "Constraint matrix A_eq:\n",
      "\n",
      "[[ 1  0  0 -1  0  0 -1  0  0  0  0  0  0  0]\n",
      " [ 0  1  0  0 -1  0  0 -1  0  0  0  0  0  0]\n",
      " [ 0  0  1  0  0 -1  0  0 -1  0  0  0  0  0]\n",
      " [ 0  0  0  1  1  1  0  0  0 -1  0  0  0  0]\n",
      " [ 0  0  0  0  0  0  1  1  1  0 -1  0  0  0]\n",
      " [ 0  0  0  0  0  0  0  0  0  0  0  1  1 -1]\n",
      " [ 0  0  0  0  0  0  0  0  0  1  0 -1  0  0]\n",
      " [ 0  0  0  0  0  0  0  0  0  0  1  0 -1  0]]\n"
     ]
    }
   ],
   "source": [
    "edges = edge_list[:,:2]\n",
    "costs = edge_list[:,2]\n",
    "\n",
    "# We delete the first and last rows, since they are the ones associated to the source (node 0) \n",
    "# and target (node 9):\n",
    "A_eq = get_incidence_matrix(edges)[1:-1]\n",
    "b_eq = np.zeros(A_eq.shape[0])\n",
    "print(\"Constraint matrix A_eq:\\n\")\n",
    "print(A_eq)"
   ]
  },
  {
   "cell_type": "markdown",
   "metadata": {},
   "source": [
    "### g) Solve the linear program\n",
    "To solve the LP you may find useful the following wrapper of `scipy.optimize.linprog`."
   ]
  },
  {
   "cell_type": "code",
   "execution_count": 11,
   "metadata": {},
   "outputs": [],
   "source": [
    "from scipy.optimize import linprog\n",
    "\n",
    "def solve_LP(costs, A_eq=None, b_eq=None, A_leq=None, b_leq=None, bounds=(0, None), \n",
    "            edge_list=None):\n",
    "    \"\"\"\n",
    "    A wrapper around `scipy.optimize.linprog`.\n",
    "    \n",
    "    The `bounds` parameter represents what in the exercise sheet is defined as (x_low, x_high)\n",
    "    \"\"\"\n",
    "    optim_result = scipy.optimize.linprog(costs, A_ub=A_leq, b_ub=b_leq, A_eq=A_eq, \n",
    "                                          b_eq=b_eq,  bounds=bounds, method='revised simplex')\n",
    "    solution = optim_result.x\n",
    "    assert optim_result.status == 0, \"Something went wrong during the optimization\"\n",
    "    \n",
    "    # Do some printing:\n",
    "    np.set_printoptions(precision=4)\n",
    "    print(\"LP solution: \\n\", solution)\n",
    "    print(\"LP minimum energy: \", optim_result.fun)\n",
    "    \n",
    "    # Print selected edges:\n",
    "    if edge_list is not None:\n",
    "        assert edge_list.shape[0] == solution.shape[0]\n",
    "        for i, edge in enumerate(edge_list):\n",
    "            if np.allclose(solution[i], 1.):\n",
    "                print(\"Edge ({},{}) selected\".format(edge[0], edge[1]))\n",
    "    \n",
    "    return solution, optim_result.fun"
   ]
  },
  {
   "cell_type": "code",
   "execution_count": 12,
   "metadata": {},
   "outputs": [
    {
     "name": "stdout",
     "output_type": "stream",
     "text": [
      "LP solution: \n",
      " [1. 0. 0. 1. 0. 0. 0. 0. 0. 1. 0. 1. 0. 1.]\n",
      "LP minimum energy:  -10.0\n",
      "Edge (0,1) selected\n",
      "Edge (1,4) selected\n",
      "Edge (4,7) selected\n",
      "Edge (7,6) selected\n",
      "Edge (6,9) selected\n"
     ]
    }
   ],
   "source": [
    "### Your solution goes here\n",
    "solution, energy = solve_LP(costs, A_eq=A_eq, b_eq=b_eq, bounds=(0,1), edge_list=edges)"
   ]
  },
  {
   "cell_type": "markdown",
   "metadata": {},
   "source": [
    "### h) Particle appearance and disappearance"
   ]
  },
  {
   "cell_type": "code",
   "execution_count": 14,
   "metadata": {},
   "outputs": [],
   "source": [
    "# Let's define the additional appearance and disappearance edges:\n",
    "disapperance_edges = np.array([\n",
    "    [1,9,10],\n",
    "    [2,9,10],\n",
    "    [3,9,10],\n",
    "    [7,9,10],\n",
    "    [8,9,10],\n",
    "])\n",
    "\n",
    "appearance_edges = np.array([\n",
    "    [0,4,6],\n",
    "    [0,5,6],\n",
    "    [0,6,6],    \n",
    "])"
   ]
  },
  {
   "cell_type": "code",
   "execution_count": 15,
   "metadata": {},
   "outputs": [
    {
     "name": "stdout",
     "output_type": "stream",
     "text": [
      "Constraint matrix A_eq:\n",
      "\n",
      "[[ 1  0  0 -1  0  0 -1  0  0  0  0  0  0  0  0  0  0 -1  0  0  0  0]\n",
      " [ 0  1  0  0 -1  0  0 -1  0  0  0  0  0  0  0  0  0  0 -1  0  0  0]\n",
      " [ 0  0  1  0  0 -1  0  0 -1  0  0  0  0  0  0  0  0  0  0 -1  0  0]\n",
      " [ 0  0  0  1  1  1  0  0  0 -1  0  0  0  0  1  0  0  0  0  0  0  0]\n",
      " [ 0  0  0  0  0  0  1  1  1  0 -1  0  0  0  0  1  0  0  0  0  0  0]\n",
      " [ 0  0  0  0  0  0  0  0  0  0  0  1  1 -1  0  0  1  0  0  0  0  0]\n",
      " [ 0  0  0  0  0  0  0  0  0  1  0 -1  0  0  0  0  0  0  0  0 -1  0]\n",
      " [ 0  0  0  0  0  0  0  0  0  0  1  0 -1  0  0  0  0  0  0  0  0 -1]]\n",
      "LP solution: \n",
      " [1. 1. 1. 1. 0. 0. 0. 1. 0. 1. 1. 0. 0. 1. 0. 0. 1. 0. 0. 1. 1. 1.]\n",
      "LP minimum energy:  -32.0\n",
      "Edge (0,1) selected\n",
      "Edge (0,2) selected\n",
      "Edge (0,3) selected\n",
      "Edge (1,4) selected\n",
      "Edge (2,5) selected\n",
      "Edge (4,7) selected\n",
      "Edge (5,8) selected\n",
      "Edge (6,9) selected\n",
      "Edge (0,6) selected\n",
      "Edge (3,9) selected\n",
      "Edge (7,9) selected\n",
      "Edge (8,9) selected\n"
     ]
    }
   ],
   "source": [
    "# And now we solve again the LP with the additional edges:\n",
    "edge_info = np.concatenate((edge_list, appearance_edges, disapperance_edges), axis=0)\n",
    "edges = edge_info[:,:2]\n",
    "costs = edge_info[:,2]\n",
    "A_eq = get_incidence_matrix(edges)[1:-1]\n",
    "print(\"Constraint matrix A_eq:\\n\")\n",
    "print(A_eq)\n",
    "b_eq = np.zeros(A_eq.shape[0])\n",
    "\n",
    "solution, energy = solve_LP(costs, A_eq=A_eq, b_eq=b_eq, bounds=(0,1), edge_list=edges)"
   ]
  },
  {
   "cell_type": "markdown",
   "metadata": {},
   "source": [
    "# 1.2 Bonus: Tracking with particle merging and/or division"
   ]
  },
  {
   "cell_type": "markdown",
   "metadata": {},
   "source": [
    "### e) Non integral solution\n",
    "Below you can find two examples of cost vectors: the first one gives a non-integral solution, wherease the second one gives an integral solution."
   ]
  },
  {
   "cell_type": "code",
   "execution_count": 25,
   "metadata": {},
   "outputs": [
    {
     "name": "stdout",
     "output_type": "stream",
     "text": [
      "Example with NON-INTEGRAL solution:\n",
      "LP solution: \n",
      " [0.5 0.5 0.  1. ]\n",
      "LP minimum energy:  -6.5\n",
      "\n",
      "Example with INTEGRAL solution:\n",
      "LP solution: \n",
      " [1. 1. 1. 1.]\n",
      "LP minimum energy:  -33.0\n"
     ]
    }
   ],
   "source": [
    "A_eq = np.array([\n",
    "    [1, 1, -1, -1],\n",
    "    [1,-1,  0,  0]\n",
    "])\n",
    "b_eq = np.array([0, 0])\n",
    "\n",
    "# Example with non-integral solution:\n",
    "costs = np.array([2, 5, -3, -10])\n",
    "print(\"Example with NON-INTEGRAL solution:\")\n",
    "solution, energy = solve_LP(costs, A_eq=A_eq, b_eq=b_eq, bounds=(0,1))\n",
    "\n",
    "print(\"\\nExample with INTEGRAL solution:\")\n",
    "costs = np.array([1, 5, -19, -20])\n",
    "solution, energy = solve_LP(costs, A_eq=A_eq, b_eq=b_eq, bounds=(0,1))"
   ]
  },
  {
   "cell_type": "code",
   "execution_count": null,
   "metadata": {},
   "outputs": [],
   "source": []
  }
 ],
 "metadata": {
  "kernelspec": {
   "display_name": "Python 3",
   "language": "python",
   "name": "python3"
  },
  "language_info": {
   "codemirror_mode": {
    "name": "ipython",
    "version": 3
   },
   "file_extension": ".py",
   "mimetype": "text/x-python",
   "name": "python",
   "nbconvert_exporter": "python",
   "pygments_lexer": "ipython3",
   "version": "3.7.7"
  }
 },
 "nbformat": 4,
 "nbformat_minor": 2
}
